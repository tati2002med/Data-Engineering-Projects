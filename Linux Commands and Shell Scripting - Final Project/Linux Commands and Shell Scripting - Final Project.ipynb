{
 "cells": [
  {
   "cell_type": "markdown",
   "id": "a47b789f",
   "metadata": {},
   "source": [
    "<h1 style=\"color: red; text-align: center\">Linux Commands and Shell Scripting - Final Project</h1>\n",
    "<hr width: 5px>\n",
    "<h3>❖ Author:</h3>\n",
    "<p>TATI Mohammed</p>\n",
    "<p style=\"text-align: right;\"><b>30-JAN | <span style=\"color: green;\">2023</span></b></p>"
   ]
  },
  {
   "cell_type": "markdown",
   "id": "f4e7fd21",
   "metadata": {},
   "source": [
    "<div style=\"text-align:center\">\n",
    "<img src=\"rsc/logo.png\">\n",
    "</div>"
   ]
  },
  {
   "cell_type": "markdown",
   "id": "3d59a5b5",
   "metadata": {},
   "source": [
    "<h2>Estimated time needed: 90 minutes</h2>"
   ]
  },
  {
   "cell_type": "markdown",
   "id": "2c4b21d6",
   "metadata": {},
   "source": [
    "+ Congratulations!! You have finished the modules. Now is the time to put your skills to test. Read through the scenario below.\n",
    "+ This lab may use some bash concepts we haven’t yet covered in this course. Whenever this happens, we will provide sufficient hints and/or the code for you."
   ]
  },
  {
   "cell_type": "markdown",
   "id": "bf96f608",
   "metadata": {},
   "source": [
    "<h2>Scenario</h2>"
   ]
  },
  {
   "cell_type": "markdown",
   "id": "2071efe8",
   "metadata": {},
   "source": [
    "<p style=\"text-align:justify\">You are a <b>lead linux developer</b> at the top-tech company <b>\"ABC International INC.\"</b> ABC currently suffers from a huge bottleneck - each day, interns must painstakingly access encrypted password files on core servers, and backup those that were updated within the last 24-hours. This introduces human error, lowers security, and takes an unreasonable amount of work.\n",
    "As <b>ABC INC’s most trusted linux developer</b>, you have been tasked with creating a script <i>backup.sh</i> which automatically backs up any of these files that have been updated within the past 24 hours</p>"
   ]
  },
  {
   "cell_type": "markdown",
   "id": "0a0896e3",
   "metadata": {},
   "source": [
    "<h2>Objectives</h2>"
   ]
  },
  {
   "cell_type": "markdown",
   "id": "7f0934a5",
   "metadata": {},
   "source": [
    "+ The objective of this lab is to incorporate much of the shell scripting you’ve learned over this course into a single script.\n",
    "+ You will schedule your shell script to run every 24 hours using crontab.\n",
    "+ TIP: If you’re unsure whether some of your code will work as wanted, you can try the command directly in the terminal - and even create your own test scripts!"
   ]
  },
  {
   "cell_type": "markdown",
   "id": "a8873651",
   "metadata": {},
   "source": [
    "<h2>Tasks</h2>"
   ]
  },
  {
   "cell_type": "code",
   "execution_count": 1,
   "id": "42141255",
   "metadata": {},
   "outputs": [
    {
     "name": "stdout",
     "output_type": "stream",
     "text": [
      "backup.sh target_directory_name destination_directory_name\n",
      "\u001b[3J\u001b[H\u001b[2J"
     ]
    }
   ],
   "source": [
    "%%bash\n",
    "#!/bin/bash\n",
    "\n",
    "# This checks if the number of arguments is correct\n",
    "# If the number of arguments is incorrect ( $# != 2) print error message and exit\n",
    "if [[ $# != 2 ]]\n",
    "then\n",
    "  echo \"backup.sh target_directory_name destination_directory_name\"\n",
    "  exit\n",
    "fi\n",
    "\n",
    "# This checks if argument 1 and argument 2 are valid directory paths\n",
    "if [[ ! -d $1 ]] || [[ ! -d $2 ]]\n",
    "then\n",
    "  echo \"Invalid directory path provided\"\n",
    "  exit\n",
    "fi\n",
    "\n",
    "# [TASK 1]\n",
    "targetDirectory=$1\n",
    "destinationDirectory=$2\n",
    "\n",
    "# [TASK 2]\n",
    "echo \"$targetDirectory\"\n",
    "echo \"$destinationDirectory\"\n",
    "\n",
    "# [TASK 3]\n",
    "currentTS=$(date +%s)\n",
    "\n",
    "# [TASK 4]\n",
    "backupFileName=\"backup-[$currentTS].tar.gz\"\n",
    "\n",
    "# We're going to:\n",
    "  # 1: Go into the target directory\n",
    "  # 2: Create the backup file\n",
    "  # 3: Move the backup file to the destination directory\n",
    "\n",
    "# To make things easier, we will define some useful variables...\n",
    "\n",
    "# [TASK 5]\n",
    "origAbsPath=`pwd`\n",
    "\n",
    "# [TASK 6]\n",
    "cd $destinationDirectory # <-\n",
    "destDirAbsPath=`pwd`\n",
    "\n",
    "# [TASK 7]\n",
    "cd $origAbsPath # <-\n",
    "cd $targetDirectory # <-\n",
    "\n",
    "# [TASK 8]\n",
    "yesterdayTS=$(($currentTS - 24 * 60 * 60))\n",
    "\n",
    "declare -a toBackup\n",
    "\n",
    "for file in $(ls) # [TASK 9]\n",
    "do\n",
    "  # [TASK 10]\n",
    "  if ((`date -r $file +%s` > $yesterdayTS))\n",
    "  then\n",
    "    # [TASK 11]\n",
    "    toBackup+=($file)\n",
    "  fi\n",
    "done\n",
    "\n",
    "# [TASK 12]\n",
    "tar -czvf $backupFileName ${toBackup[@]}\n",
    "# [TASK 13]\n",
    "mv $backupFileName $destAbsPath\n",
    "# Congratulations! You completed the final project for this course!"
   ]
  },
  {
   "cell_type": "markdown",
   "id": "29a4b9da",
   "metadata": {},
   "source": [
    "<hr>\n",
    "<p style=\"text-align: right\">Linux Commands and Shell Scripting - Final Project | <span style=\"color: green\">Successfuly Completed</span></p>"
   ]
  }
 ],
 "metadata": {
  "kernelspec": {
   "display_name": "Python 3 (ipykernel)",
   "language": "python",
   "name": "python3"
  },
  "language_info": {
   "codemirror_mode": {
    "name": "ipython",
    "version": 3
   },
   "file_extension": ".py",
   "mimetype": "text/x-python",
   "name": "python",
   "nbconvert_exporter": "python",
   "pygments_lexer": "ipython3",
   "version": "3.9.7"
  }
 },
 "nbformat": 4,
 "nbformat_minor": 5
}
