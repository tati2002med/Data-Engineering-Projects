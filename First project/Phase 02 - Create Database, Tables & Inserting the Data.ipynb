{
 "cells": [
  {
   "cell_type": "markdown",
   "id": "35c2b218",
   "metadata": {},
   "source": [
    "<h1 style=\"color: red; text-align: center\">Phase 02 - Create Database, Tables & Inserting the Data</h1>\n",
    "<hr width: 5px>\n",
    "<h3>❖ Author:</h3>\n",
    "<p>TATI Mohammed</p>\n",
    "<p style=\"text-align: right;\"><b>29-JAN | <span style=\"color: green;\">2023</span></b></p>"
   ]
  },
  {
   "cell_type": "markdown",
   "id": "29ef4c7b",
   "metadata": {},
   "source": [
    "<h2 style=\"color: green\">Importing libraries required</h2>"
   ]
  },
  {
   "cell_type": "code",
   "execution_count": 1,
   "id": "fadcf8b3",
   "metadata": {},
   "outputs": [],
   "source": [
    "import psycopg2 as pc\n",
    "import pandas as pd"
   ]
  },
  {
   "cell_type": "markdown",
   "id": "0edfdf3a",
   "metadata": {},
   "source": [
    "<h2 style=\"color: green\">Data model</h2>"
   ]
  },
  {
   "cell_type": "markdown",
   "id": "0011379b",
   "metadata": {},
   "source": [
    "<img src=\"rsc/data model.PNG\" width=\"600\">"
   ]
  },
  {
   "cell_type": "markdown",
   "id": "4737ed0c",
   "metadata": {},
   "source": [
    "<h2 style=\"color: green\">Creating the Database & the Tables</h2>"
   ]
  },
  {
   "cell_type": "code",
   "execution_count": 2,
   "id": "f4752acd",
   "metadata": {},
   "outputs": [],
   "source": [
    "def create_db():\n",
    "    \n",
    "    # Connecting the default database\n",
    "    conn = pc.connect(\"host=127.0.0.1 dbname=postgres user=postgres password=24042002\")\n",
    "    conn.set_session(autocommit=True)\n",
    "    cur = conn.cursor()\n",
    "    \n",
    "    # Creating our database\n",
    "    try:\n",
    "        cur.execute(\"CREATE DATABASE amazon\")\n",
    "        # Closing the connection to the default database\n",
    "        conn.close()\n",
    "    except pc.Error as e:\n",
    "        return e\n",
    "    \n",
    "    # Connecting to the new database\n",
    "    try:\n",
    "        conn = pc.connect(\"host=127.0.0.1 dbname=amazon user=postgres password=24042002\")\n",
    "        cur = conn.cursor()\n",
    "        print(\"Connected to amazon\")\n",
    "    \n",
    "        return conn, cur\n",
    "    except pc.Error as e:\n",
    "        return e\n",
    "\n",
    "def create_table(cur, conn):\n",
    "    # Table data\n",
    "    table_name = input('Enter the name of the table: ')\n",
    "    cols_types = input(\"Enter the columns (separeted with comma) with their data types: \")\n",
    "    table_name = table_name.strip()\n",
    "    # Creating the table\n",
    "    try:\n",
    "        cur.execute(\"CREATE TABLE IF NOT EXISTS \"+table_name+\" (\"+cols_types+\");\")\n",
    "        conn.commit()\n",
    "        \n",
    "        return \"Table \"+table_name+\" created!!\"\n",
    "    except pc.Error as e:\n",
    "        return e"
   ]
  },
  {
   "cell_type": "markdown",
   "id": "245b2865",
   "metadata": {},
   "source": [
    "<h3 style=\"color: blue\">Connecting to the database</h3>"
   ]
  },
  {
   "cell_type": "code",
   "execution_count": 3,
   "id": "13b780be",
   "metadata": {},
   "outputs": [
    {
     "name": "stdout",
     "output_type": "stream",
     "text": [
      "Connected to amazon\n"
     ]
    }
   ],
   "source": [
    "conn, cur = create_db()"
   ]
  },
  {
   "cell_type": "markdown",
   "id": "3660074c",
   "metadata": {},
   "source": [
    "<h3 style=\"color: blue\">Creating the tables</h3>"
   ]
  },
  {
   "cell_type": "markdown",
   "id": "1f6dc2b6",
   "metadata": {},
   "source": [
    "<h4>Products table</h4>"
   ]
  },
  {
   "cell_type": "code",
   "execution_count": 4,
   "id": "6b108a76",
   "metadata": {},
   "outputs": [
    {
     "name": "stdout",
     "output_type": "stream",
     "text": [
      "Enter the name of the table: products\n",
      "Enter the columns (separeted with comma) with their data types: product_id VARCHAR(200) PRIMARY KEY,product_name VARCHAR(400),category VARCHAR(400), rating VARCHAR(5)\n"
     ]
    },
    {
     "data": {
      "text/plain": [
       "'Table products created!!'"
      ]
     },
     "execution_count": 4,
     "metadata": {},
     "output_type": "execute_result"
    }
   ],
   "source": [
    "# product_id VARCHAR(200) PRIMARY KEY,product_name VARCHAR(400),category VARCHAR(400), rating VARCHAR(5)\n",
    "create_table(cur, conn)"
   ]
  },
  {
   "cell_type": "markdown",
   "id": "5b484505",
   "metadata": {},
   "source": [
    "<h4>Reviews table</h4>"
   ]
  },
  {
   "cell_type": "code",
   "execution_count": 5,
   "id": "33dd6ded",
   "metadata": {},
   "outputs": [
    {
     "name": "stdout",
     "output_type": "stream",
     "text": [
      "Enter the name of the table: reviews\n",
      "Enter the columns (separeted with comma) with their data types: review_id VARCHAR(300) PRIMARY KEY,review_title VARCHAR(400),review_content VARCHAR(10000)\n"
     ]
    },
    {
     "data": {
      "text/plain": [
       "'Table reviews created!!'"
      ]
     },
     "execution_count": 5,
     "metadata": {},
     "output_type": "execute_result"
    }
   ],
   "source": [
    "# review_id VARCHAR(300) PRIMARY KEY,review_title VARCHAR(400),review_content VARCHAR(10000)\n",
    "create_table(cur, conn)"
   ]
  },
  {
   "cell_type": "markdown",
   "id": "0096afd3",
   "metadata": {},
   "source": [
    "<h4>Users table</h4>"
   ]
  },
  {
   "cell_type": "code",
   "execution_count": 6,
   "id": "aad6402e",
   "metadata": {},
   "outputs": [
    {
     "name": "stdout",
     "output_type": "stream",
     "text": [
      "Enter the name of the table: users\n",
      "Enter the columns (separeted with comma) with their data types: user_id VARCHAR(300) PRIMARY KEY,user_name VARCHAR(400),product_id VARCHAR(200), review_id VARCHAR(300), CONSTRAINT fk_product FOREIGN KEY(product_id) REFERENCES products(product_id) ON DELETE SET NULL, CONSTRAINT fk_review FOREIGN KEY(review_id) REFERENCES reviews(review_id) ON DELETE SET NULL\n"
     ]
    },
    {
     "data": {
      "text/plain": [
       "'Table users created!!'"
      ]
     },
     "execution_count": 6,
     "metadata": {},
     "output_type": "execute_result"
    }
   ],
   "source": [
    "# user_id VARCHAR(300) PRIMARY KEY,user_name VARCHAR(400),product_id VARCHAR(200), review_id VARCHAR(300),\n",
    "# CONSTRAINT fk_product FOREIGN KEY(product_id) REFERENCES products(product_id) ON DELETE SET NULL,\n",
    "# CONSTRAINT fk_review FOREIGN KEY(review_id) REFERENCES reviews(review_id) ON DELETE SET NULL\n",
    "create_table(cur, conn)"
   ]
  },
  {
   "cell_type": "markdown",
   "id": "6110a5b1",
   "metadata": {},
   "source": [
    "<h4>Saving the changes</h4>"
   ]
  },
  {
   "cell_type": "code",
   "execution_count": 7,
   "id": "d2e87eef",
   "metadata": {},
   "outputs": [],
   "source": [
    "conn.commit()"
   ]
  },
  {
   "cell_type": "markdown",
   "id": "e7526139",
   "metadata": {},
   "source": [
    "<h2 style=\"color: green\">Inserting the data into the database</h2>"
   ]
  },
  {
   "cell_type": "code",
   "execution_count": 8,
   "id": "683b189c",
   "metadata": {},
   "outputs": [],
   "source": [
    "users = pd.read_csv('user.csv')\n",
    "products = pd.read_csv('product.csv')\n",
    "reviews = pd.read_csv('review.csv')"
   ]
  },
  {
   "cell_type": "code",
   "execution_count": 9,
   "id": "4a084278",
   "metadata": {},
   "outputs": [],
   "source": [
    "# Query to insert the data into users table\n",
    "into_users = \"INSERT INTO users(user_id, user_name, product_id, review_id) VALUES(%s, %s, %s, %s)\"\n",
    "\n",
    "# Query to insert the data into products table\n",
    "into_products = \"INSERT INTO products(product_id, product_name, category, rating) VALUES(%s, %s, %s, %s)\"\n",
    "\n",
    "# Query to insert the data into reviews table\n",
    "into_reviews = \"INSERT INTO reviews(review_id, review_title, review_content) VALUES(%s, %s, %s)\""
   ]
  },
  {
   "cell_type": "code",
   "execution_count": 10,
   "id": "61eda9f4",
   "metadata": {},
   "outputs": [],
   "source": [
    "# Inserting\n",
    "for i, row in products.iterrows():\n",
    "    cur.execute(into_products, list(row))\n",
    "\n",
    "# Saving\n",
    "conn.commit()"
   ]
  },
  {
   "cell_type": "markdown",
   "id": "710cf697",
   "metadata": {},
   "source": [
    "<img src=\"rsc/product.PNG\">"
   ]
  },
  {
   "cell_type": "code",
   "execution_count": 11,
   "id": "dbc2e1ad",
   "metadata": {},
   "outputs": [],
   "source": [
    "# Inserting\n",
    "for i, row in reviews.iterrows():\n",
    "    cur.execute(into_reviews, list(row))\n",
    "\n",
    "# Saving\n",
    "conn.commit()"
   ]
  },
  {
   "cell_type": "markdown",
   "id": "7a03a4e0",
   "metadata": {},
   "source": [
    "<img src=\"rsc/review.PNG\">"
   ]
  },
  {
   "cell_type": "code",
   "execution_count": 12,
   "id": "b81f7da3",
   "metadata": {},
   "outputs": [],
   "source": [
    "# User data\n",
    "user_data = pd.concat([users, products[['product_id']], reviews[['review_id']]], axis=1)\n",
    "\n",
    "# Inserting\n",
    "for i, row in user_data.iterrows():\n",
    "    cur.execute(into_users, list(row))\n",
    "\n",
    "# Saving\n",
    "conn.commit()"
   ]
  },
  {
   "cell_type": "markdown",
   "id": "49f2b64d",
   "metadata": {},
   "source": [
    "<img src=\"rsc/user.PNG\">"
   ]
  },
  {
   "cell_type": "markdown",
   "id": "d7ed126a",
   "metadata": {},
   "source": [
    "<h4>Closing the connection</h4>"
   ]
  },
  {
   "cell_type": "code",
   "execution_count": 13,
   "id": "86aba576",
   "metadata": {},
   "outputs": [],
   "source": [
    "conn.close()"
   ]
  },
  {
   "cell_type": "markdown",
   "id": "70269d42",
   "metadata": {},
   "source": [
    "<hr>\n",
    "<p style=\"text-align: right\">Phase 02 - Create Database, Tables & Inserting the Data\n",
    " | <span style=\"color: green\">Successfuly Completed</span></p>"
   ]
  }
 ],
 "metadata": {
  "kernelspec": {
   "display_name": "Python 3 (ipykernel)",
   "language": "python",
   "name": "python3"
  },
  "language_info": {
   "codemirror_mode": {
    "name": "ipython",
    "version": 3
   },
   "file_extension": ".py",
   "mimetype": "text/x-python",
   "name": "python",
   "nbconvert_exporter": "python",
   "pygments_lexer": "ipython3",
   "version": "3.9.7"
  }
 },
 "nbformat": 4,
 "nbformat_minor": 5
}
