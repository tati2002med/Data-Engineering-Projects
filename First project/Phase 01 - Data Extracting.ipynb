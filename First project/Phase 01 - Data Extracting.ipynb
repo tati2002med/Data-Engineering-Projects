{
 "cells": [
  {
   "cell_type": "markdown",
   "id": "6c9b8354",
   "metadata": {},
   "source": [
    "<h1 style=\"color: red; text-align: center\">Phase 01 - Data Extracting</h1>\n",
    "<hr width: 5px>\n",
    "<h3>❖ Author:</h3>\n",
    "<p>TATI Mohammed</p>\n",
    "<p style=\"text-align: right;\"><b>29-JAN | <span style=\"color: green;\">2023</span></b></p>"
   ]
  },
  {
   "cell_type": "markdown",
   "id": "d11c9d3e",
   "metadata": {},
   "source": [
    "<h2 style=\"color: green\">Importing libraries required</h2>"
   ]
  },
  {
   "cell_type": "code",
   "execution_count": 1,
   "id": "632800c7",
   "metadata": {},
   "outputs": [],
   "source": [
    "import pandas as pd"
   ]
  },
  {
   "cell_type": "markdown",
   "id": "8773ebce",
   "metadata": {},
   "source": [
    "<h2 style=\"color: green\">Data Source, Extracting the tables</h2>"
   ]
  },
  {
   "cell_type": "code",
   "execution_count": 2,
   "id": "1ef6ed54",
   "metadata": {},
   "outputs": [
    {
     "data": {
      "text/plain": [
       "Index(['product_id', 'product_name', 'category', 'discounted_price',\n",
       "       'actual_price', 'discount_percentage', 'rating', 'rating_count',\n",
       "       'about_product', 'user_id', 'user_name', 'review_id', 'review_title',\n",
       "       'review_content', 'img_link', 'product_link'],\n",
       "      dtype='object')"
      ]
     },
     "execution_count": 2,
     "metadata": {},
     "output_type": "execute_result"
    }
   ],
   "source": [
    "data = pd.read_csv('amazon.csv')\n",
    "data.columns"
   ]
  },
  {
   "cell_type": "code",
   "execution_count": 3,
   "id": "89c70884",
   "metadata": {},
   "outputs": [],
   "source": [
    "product = data[['product_id', 'product_name', 'category', 'rating']]\n",
    "user = data[['user_id', 'user_name']]\n",
    "review = data[['review_id', 'review_title', 'review_content']]"
   ]
  },
  {
   "cell_type": "markdown",
   "id": "fd957c30",
   "metadata": {},
   "source": [
    "<h2 style=\"color: green\">Creating the CSV files from tables</h2>"
   ]
  },
  {
   "cell_type": "code",
   "execution_count": 4,
   "id": "852e3962",
   "metadata": {},
   "outputs": [],
   "source": [
    "product.to_csv('product1.csv', index=False)\n",
    "user.to_csv('user1.csv', index=False)\n",
    "review.to_csv('review1.csv', index=False)"
   ]
  },
  {
   "cell_type": "code",
   "execution_count": 5,
   "id": "b4af3157",
   "metadata": {},
   "outputs": [],
   "source": [
    "users = pd.read_csv('user1.csv')\n",
    "products = pd.read_csv('product1.csv')\n",
    "reviews = pd.read_csv('review1.csv')"
   ]
  },
  {
   "cell_type": "code",
   "execution_count": 6,
   "id": "852858bb",
   "metadata": {},
   "outputs": [],
   "source": [
    "users.dropna(inplace=True, axis=0)\n",
    "products.dropna(inplace=True, axis=0)\n",
    "reviews.dropna(inplace=True, axis=0)\n",
    "\n",
    "users.drop_duplicates(inplace=True)\n",
    "products.drop_duplicates(inplace=True)\n",
    "reviews.drop_duplicates(inplace=True)"
   ]
  },
  {
   "cell_type": "code",
   "execution_count": 7,
   "id": "58ec429e",
   "metadata": {},
   "outputs": [],
   "source": [
    "usrs = users.head(50)\n",
    "prd = products.head(50)\n",
    "rev = reviews.head(50)"
   ]
  },
  {
   "cell_type": "code",
   "execution_count": 8,
   "id": "0a2752c0",
   "metadata": {},
   "outputs": [],
   "source": [
    "prd.to_csv('product.csv', index=False)\n",
    "usrs.to_csv('user.csv', index=False)\n",
    "rev.to_csv('review.csv', index=False)"
   ]
  },
  {
   "cell_type": "markdown",
   "id": "fc1f862c",
   "metadata": {},
   "source": [
    "<hr>\n",
    "<p style=\"text-align: right\">Phase 01 - Data Extracting | <span style=\"color: green\">Successfuly Completed</span></p>"
   ]
  }
 ],
 "metadata": {
  "kernelspec": {
   "display_name": "Python 3 (ipykernel)",
   "language": "python",
   "name": "python3"
  },
  "language_info": {
   "codemirror_mode": {
    "name": "ipython",
    "version": 3
   },
   "file_extension": ".py",
   "mimetype": "text/x-python",
   "name": "python",
   "nbconvert_exporter": "python",
   "pygments_lexer": "ipython3",
   "version": "3.9.7"
  }
 },
 "nbformat": 4,
 "nbformat_minor": 5
}
